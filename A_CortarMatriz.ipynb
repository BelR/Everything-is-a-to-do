{
 "cells": [
  {
   "cell_type": "code",
   "execution_count": null,
   "metadata": {},
   "outputs": [],
   "source": [
    "push!( LOAD_PATH, \".\" ); # folder que continen los modulos. Correr desde ahí dentro.\n",
    "#\n",
    "using Z_auxiliaresBRW, Z_auxiliaresGEN\n",
    "#\n",
    "using JLD\n",
    "#\n",
    "Γ = OS( \"linux\" ); # establecer SO a usar...es para mi lap si?\n",
    "BRWname = \"/home/isabel/Desktop/200819/control_01.brw\"; # path file\n",
    "# path para guardar los cachos\n",
    "WORKpath = string( split( BRWname, \".\" )[ 1 ], Γ, \"Process\" ); \n",
    "checkpath( WORKpath ); # checar si el folder para guardar los cachos existe\n",
    "#"
   ]
  },
  {
   "cell_type": "code",
   "execution_count": null,
   "metadata": {},
   "outputs": [],
   "source": [
    "#\n",
    "ν = brw_things( BRWname ); # variables útiles\n",
    "ξ = ν[ \"Chs\" ]; # canales en numero, coord1, coord2\n",
    "Σ = ν[ \"dset\" ]; # path al dataset (NO READ! to much)\n",
    "ζ = ν[ \"Factor\" ]; # variables para...\n",
    "ο = ν[ \"Offset\" ]; # conversión de voltaje\n",
    "Τ = Int( size( Σ, 1 )/size( ξ, 1 ) ); # verdadero tiempo registrado\n",
    "#\n",
    "ι = div_n_ab( Τ, 50, 100 ); # numero de cachos a cortar del exp. total\n",
    "ω = Int( Τ/ι[ 1 ] ); # numero de frames finales (tamaño del cacho en frames)\n",
    "ε = zeros( Int,ι[ 1 ], 2 ); # preallocate\n",
    "ε[ :, 1 ] = collect( 1:ω:Τ ); # inicio y \n",
    "ε[ :, 2 ] = ε[ :, 1 ] .+ ω .- 1; # fin en frames de cada cacho (para cortar)\n",
    "#"
   ]
  },
  {
   "cell_type": "code",
   "execution_count": null,
   "metadata": {},
   "outputs": [],
   "source": [
    "#\n",
    "for i = 1:ι[ 1 ] # numero de Β a cortar (1-> 4096,1->ω)\n",
    "    Β = zeros( size( ξ, 1 ), ω ); # preallocate\n",
    "    # valores correspondientes al Β especifico\n",
    "    # el canal 1,1 tiene el frame 1, 4097, 8193...etc\n",
    "    β = collect( ( ε[ i, 1 ] - 1 ):1:ε[ i, 2 ] ); \n",
    "    for j = 1:ω\n",
    "        # saca esos frames del machote seguido Σ, y ponlos en array en Β\n",
    "        Β[ :, j ] = Σ[ ( β[ j ]*size( ξ, 1 ) ) + 1:( size( ξ, 1 )*β[ j + 1 ] ) ];\n",
    "    end\n",
    "    Β = ( ( Β.*ζ ) .+ ο ); # conversion a volaje\n",
    "    ΒINname = string( WORKpath, Γ, \"Β\", add_zeros( 2, i ), \".jld\" ); \n",
    "    save( ΒINname, \"data\", Β );\n",
    "    println( add_zeros( 2, i ), \" of \", ι[ 1 ], \"...saved\" );\n",
    "end\n",
    "#"
   ]
  },
  {
   "cell_type": "code",
   "execution_count": null,
   "metadata": {},
   "outputs": [],
   "source": []
  }
 ],
 "metadata": {
  "kernelspec": {
   "display_name": "Julia 1.2.0",
   "language": "julia",
   "name": "julia-1.2"
  },
  "language_info": {
   "file_extension": ".jl",
   "mimetype": "application/julia",
   "name": "julia",
   "version": "1.2.0"
  }
 },
 "nbformat": 4,
 "nbformat_minor": 2
}
